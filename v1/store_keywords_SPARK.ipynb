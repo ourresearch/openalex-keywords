{
 "cells": [
  {
   "cell_type": "code",
   "execution_count": null,
   "metadata": {
    "application/vnd.databricks.v1+cell": {
     "cellMetadata": {
      "byteLimit": 2048000,
      "rowLimit": 10000
     },
     "inputWidgets": {},
     "nuid": "44920190-9120-4ae8-858f-14f52b073315",
     "showTitle": false,
     "title": ""
    }
   },
   "outputs": [],
   "source": [
    "import pickle\n",
    "import boto3\n",
    "import re\n",
    "import json\n",
    "import random\n",
    "import unicodedata\n",
    "import pandas as pd\n",
    "import numpy as np\n",
    "import matplotlib.pyplot as plt"
   ]
  },
  {
   "cell_type": "code",
   "execution_count": null,
   "metadata": {
    "application/vnd.databricks.v1+cell": {
     "cellMetadata": {
      "byteLimit": 2048000,
      "rowLimit": 10000
     },
     "inputWidgets": {},
     "nuid": "2ba961a2-7e64-4844-8d78-c47e5f47c752",
     "showTitle": false,
     "title": ""
    }
   },
   "outputs": [],
   "source": [
    "from pyspark.sql import functions as F\n",
    "from pyspark.sql.window import Window\n",
    "from pyspark.sql.types import IntegerType, StringType, FloatType, ArrayType, DoubleType, StructType, StructField,LongType"
   ]
  },
  {
   "cell_type": "code",
   "execution_count": null,
   "metadata": {
    "application/vnd.databricks.v1+cell": {
     "cellMetadata": {
      "byteLimit": 2048000,
      "rowLimit": 10000
     },
     "inputWidgets": {},
     "nuid": "5f29191d-1059-4a1a-a42b-0a11e8599c1f",
     "showTitle": false,
     "title": ""
    }
   },
   "outputs": [],
   "source": [
    "save_path = # path for saving"
   ]
  },
  {
   "cell_type": "code",
   "execution_count": null,
   "metadata": {
    "application/vnd.databricks.v1+cell": {
     "cellMetadata": {
      "byteLimit": 2048000,
      "rowLimit": 10000
     },
     "inputWidgets": {},
     "nuid": "4def49c2-9729-444b-9345-21829fec43a0",
     "showTitle": false,
     "title": ""
    }
   },
   "outputs": [],
   "source": [
    "@udf(returnType=ArrayType(StructType([StructField('keyword', StringType()), \n",
    "                                     StructField('score', FloatType())])))\n",
    "def get_json_from_list(list_of_keywords):                            \n",
    "    final_json = []\n",
    "    try:\n",
    "        for keyword in list_of_keywords:\n",
    "            check_keyword = check_for_non_latin_characters(keyword[0])\n",
    "            if check_keyword:\n",
    "                final_json.append({'keyword': keyword[0], 'score': float(keyword[1])})\n",
    "    except:\n",
    "        pass\n",
    "\n",
    "    return final_json"
   ]
  },
  {
   "cell_type": "markdown",
   "metadata": {
    "application/vnd.databricks.v1+cell": {
     "cellMetadata": {},
     "inputWidgets": {},
     "nuid": "ec5cf789-cf94-4fdd-8da1-3ffb35af979d",
     "showTitle": false,
     "title": ""
    }
   },
   "source": [
    "### Storing keywords"
   ]
  },
  {
   "cell_type": "code",
   "execution_count": null,
   "metadata": {
    "application/vnd.databricks.v1+cell": {
     "cellMetadata": {
      "byteLimit": 2048000,
      "rowLimit": 10000
     },
     "inputWidgets": {},
     "nuid": "4b9a8fe3-4dc4-4d5c-ba36-366155e5d188",
     "showTitle": false,
     "title": ""
    }
   },
   "outputs": [],
   "source": [
    "# mapping of work_id to original_title\n",
    "works = spark.read.parquet(f\"{save_path}/work_titles/\") \\\n",
    "    .select(F.col('paper_id').alias('work_id'), 'original_title') \\\n",
    "    .dropDuplicates(subset=['work_id'])\n",
    "\n",
    "# deduplicated titles\n",
    "raw_data = spark.read.parquet(f\"{save_path}/work_titles/\") \\\n",
    "    .select('original_title').withColumn('paper_title', F.trim(F.col('original_title'))) \\\n",
    "    .dropDuplicates(subset=['original_title'])\n",
    "\n",
    "\n",
    "# keywords for each deduplicated title\n",
    "processed_data = spark.read.parquet(f\"{save_path}/all_keywords/\")\n"
   ]
  },
  {
   "cell_type": "code",
   "execution_count": null,
   "metadata": {
    "application/vnd.databricks.v1+cell": {
     "cellMetadata": {
      "byteLimit": 2048000,
      "rowLimit": 10000
     },
     "inputWidgets": {},
     "nuid": "422da87e-425d-4fad-b958-235eb2bddee0",
     "showTitle": false,
     "title": ""
    }
   },
   "outputs": [],
   "source": [
    "# join raw data to newly generated keywords\n",
    "raw_data.join(processed_data.select('paper_title','keywords'), how='left', on='paper_title') \\\n",
    "    .write.mode('overwrite') \\\n",
    "    .parquet(f\"{save_path}/original_titles_to_keywords/\")"
   ]
  },
  {
   "cell_type": "code",
   "execution_count": null,
   "metadata": {
    "application/vnd.databricks.v1+cell": {
     "cellMetadata": {
      "byteLimit": 2048000,
      "rowLimit": 10000
     },
     "inputWidgets": {},
     "nuid": "57bfb645-347c-4225-b1c7-e7dd8a3cf577",
     "showTitle": false,
     "title": ""
    }
   },
   "outputs": [],
   "source": [
    "keywords = spark.read.parquet(f\"{save_path}/original_titles_to_keywords/\")"
   ]
  },
  {
   "cell_type": "code",
   "execution_count": null,
   "metadata": {
    "application/vnd.databricks.v1+cell": {
     "cellMetadata": {
      "byteLimit": 2048000,
      "rowLimit": 10000
     },
     "inputWidgets": {},
     "nuid": "b3b70238-111d-4d7f-97f4-4418986ade3a",
     "showTitle": false,
     "title": ""
    }
   },
   "outputs": [],
   "source": [
    "works.join(keywords, how='left', on='original_title').select('work_id', 'keywords') \\\n",
    "    .withColumn('json_struct_col', get_json_from_list(F.col('keywords'))) \\\n",
    "    .withColumn('json_col', F.to_json(F.col('json_struct_col'))) \\\n",
    "    .select('work_id', 'keywords', 'json_col') \\\n",
    "    .write.mode('overwrite') \\\n",
    "    .parquet(f\"{save_path}/data_for_table/\")"
   ]
  },
  {
   "cell_type": "code",
   "execution_count": null,
   "metadata": {
    "application/vnd.databricks.v1+cell": {
     "cellMetadata": {
      "byteLimit": 2048000,
      "rowLimit": 10000
     },
     "inputWidgets": {},
     "nuid": "8e5c7d5a-964c-4263-bdc4-2d7e6834f489",
     "showTitle": false,
     "title": ""
    }
   },
   "outputs": [],
   "source": [
    "secret = # secrets for database\n",
    "\n",
    "spark.read.parquet(f\"{save_path}/data_for_table/\") \\\n",
    "    .select('work_id', F.col('json_col').alias('keywords')) \\\n",
    "    .withColumn(\"created\", F.current_timestamp()) \\\n",
    "    .withColumn(\"updated\", F.current_timestamp()) \\\n",
    "    .coalesce(6) \\\n",
    "    .write.format(\"jdbc\") \\\n",
    "    .option(\"url\", f\"jdbc:postgresql://{secret['host']}:{secret['port']}/{secret['dbname']}\") \\\n",
    "    .option(\"dbtable\", 'keywords_table') \\\n",
    "    .option(\"user\", secret['username']) \\\n",
    "    .option(\"password\", secret['password']) \\\n",
    "    .option(\"driver\", \"org.postgresql.Driver\") \\\n",
    "    .option(\"stringtype\", \"unspecified\") \\\n",
    "    .option(\"numPartitions\", 6) \\\n",
    "    .mode(\"append\") \\\n",
    "    .save()"
   ]
  },
  {
   "cell_type": "code",
   "execution_count": null,
   "metadata": {
    "application/vnd.databricks.v1+cell": {
     "cellMetadata": {},
     "inputWidgets": {},
     "nuid": "74239d90-ddad-43ea-b2a3-a63151162898",
     "showTitle": false,
     "title": ""
    }
   },
   "outputs": [],
   "source": []
  }
 ],
 "metadata": {
  "application/vnd.databricks.v1+notebook": {
   "dashboards": [],
   "language": "python",
   "notebookMetadata": {
    "mostRecentlyExecutedCommandWithImplicitDF": {
     "commandId": -1,
     "dataframes": [
      "_sqldf"
     ]
    },
    "pythonIndentUnit": 4
   },
   "notebookName": "create_keywords",
   "widgets": {}
  },
  "kernelspec": {
   "display_name": "Python 3 (ipykernel)",
   "language": "python",
   "name": "python3"
  },
  "language_info": {
   "codemirror_mode": {
    "name": "ipython",
    "version": 3
   },
   "file_extension": ".py",
   "mimetype": "text/x-python",
   "name": "python",
   "nbconvert_exporter": "python",
   "pygments_lexer": "ipython3",
   "version": "3.8.13"
  }
 },
 "nbformat": 4,
 "nbformat_minor": 1
}
